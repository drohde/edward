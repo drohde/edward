{
 "cells": [
  {
   "cell_type": "code",
   "execution_count": 1,
   "metadata": {},
   "outputs": [
    {
     "name": "stderr",
     "output_type": "stream",
     "text": [
      "/Users/d.rohde/tensorflow3/lib/python3.6/importlib/_bootstrap.py:219: RuntimeWarning: compiletime version 3.5 of module 'tensorflow.python.framework.fast_tensor_util' does not match runtime version 3.6\n",
      "  return f(*args, **kwds)\n"
     ]
    }
   ],
   "source": [
    "%matplotlib inline\n",
    "from __future__ import absolute_import\n",
    "from __future__ import division\n",
    "from __future__ import print_function\n",
    "\n",
    "import edward as ed\n",
    "import matplotlib.pyplot as plt\n",
    "import numpy as np\n",
    "import tensorflow as tf\n",
    "from scipy.special import expit\n",
    "from edward.models import Bernoulli, Normal, Binomial\n",
    "from random import randint\n",
    "\n",
    "\n",
    "plt.style.use('ggplot')\n",
    "\n",
    "P=3\n",
    "K=10\n",
    "omega_true = np.random.normal(0,1,[P,K])\n",
    "\n",
    "def generator(batch_size):  # the M and the N here are not right..  \n",
    "    probs = expit(np.matmul(omega_true,omega_true.T))\n",
    "    while True:\n",
    "        p1 = [randint(0,P-1) for _ in range(batch_size)]\n",
    "        p2 = p1 = [randint(0,P-1) for _ in range(batch_size)]\n",
    "        click = probs[p1,p2]>np.random.beta(1,1, batch_size)\n",
    "        yield (p1,p2,click)\n",
    "\n",
    "  \n",
    "A = tf.placeholder(tf.int32, [None])\n",
    "S = tf.placeholder(tf.int32, [None])\n",
    "omega = Normal(tf.zeros([P, K]),tf.ones([P, K]))\n",
    "# this is equiv to matmul(omega,omega.T)[A,S] - check\n",
    "log_prob=(tf.gather(omega, A, axis=0) * tf.transpose(tf.gather(tf.transpose(omega), S, axis=1)))\n",
    "\n",
    "Y = Bernoulli(logits=tf.reduce_sum(log_prob,1))"
   ]
  },
  {
   "cell_type": "code",
   "execution_count": 2,
   "metadata": {},
   "outputs": [],
   "source": [
    "with tf.variable_scope('q_omega'):\n",
    "    q_omega = Normal(tf.get_variable('loc', [P, K]),\n",
    "                           tf.nn.softplus(tf.get_variable('scale', [P, K]))) "
   ]
  },
  {
   "cell_type": "code",
   "execution_count": 3,
   "metadata": {},
   "outputs": [],
   "source": [
    "N=100000\n",
    "M=100\n",
    "n_batch = int(N / M)\n",
    "n_epoch = 1\n",
    "\n",
    "Y_ph = tf.placeholder(tf.int32, None)\n",
    "\n",
    "inference = ed.KLqp({omega: q_omega}, data={Y: Y_ph})\n",
    "inference.initialize(n_iter=n_batch * n_epoch, n_samples=5, scale={Y: N / M})\n",
    "tf.global_variables_initializer().run()"
   ]
  },
  {
   "cell_type": "code",
   "execution_count": 4,
   "metadata": {},
   "outputs": [
    {
     "name": "stdout",
     "output_type": "stream",
     "text": [
      "1000/1000 [100%] ██████████████████████████████ Elapsed: 5s | Loss: 8297.650\n"
     ]
    }
   ],
   "source": [
    "g=generator(int(M))\n",
    "\n",
    "for _ in range(inference.n_iter):\n",
    "    a, s, y = next(g)\n",
    "    info_dict = inference.update({A: a, S: s, Y_ph: y})\n",
    "    inference.print_progress(info_dict)"
   ]
  },
  {
   "cell_type": "code",
   "execution_count": 7,
   "metadata": {},
   "outputs": [
    {
     "data": {
      "text/plain": [
       "array([[ 0.99988699,  0.53613091,  0.05101121],\n",
       "       [ 0.53613091,  0.97353494,  0.2594445 ],\n",
       "       [ 0.05101121,  0.2594445 ,  0.99873561]], dtype=float32)"
      ]
     },
     "execution_count": 7,
     "metadata": {},
     "output_type": "execute_result"
    }
   ],
   "source": [
    "omega_bar = q_omega.mean().eval()\n",
    "expit(np.matmul(omega_bar,omega_bar.T))"
   ]
  },
  {
   "cell_type": "code",
   "execution_count": 8,
   "metadata": {},
   "outputs": [
    {
     "data": {
      "text/plain": [
       "array([[ 0.99953905,  0.78405245,  0.99740794],\n",
       "       [ 0.78405245,  0.96909677,  0.54599712],\n",
       "       [ 0.99740794,  0.54599712,  0.99999998]])"
      ]
     },
     "execution_count": 8,
     "metadata": {},
     "output_type": "execute_result"
    }
   ],
   "source": [
    "expit(np.matmul(omega_true,omega_true.T))"
   ]
  },
  {
   "cell_type": "code",
   "execution_count": null,
   "metadata": {},
   "outputs": [],
   "source": []
  },
  {
   "cell_type": "code",
   "execution_count": null,
   "metadata": {},
   "outputs": [],
   "source": []
  },
  {
   "cell_type": "code",
   "execution_count": 10,
   "metadata": {},
   "outputs": [
    {
     "data": {
      "text/plain": [
       "0.6899744811276125"
      ]
     },
     "execution_count": 10,
     "metadata": {},
     "output_type": "execute_result"
    }
   ],
   "source": []
  },
  {
   "cell_type": "code",
   "execution_count": null,
   "metadata": {},
   "outputs": [],
   "source": []
  }
 ],
 "metadata": {
  "kernelspec": {
   "display_name": "Python 3",
   "language": "python",
   "name": "python3"
  },
  "language_info": {
   "codemirror_mode": {
    "name": "ipython",
    "version": 3
   },
   "file_extension": ".py",
   "mimetype": "text/x-python",
   "name": "python",
   "nbconvert_exporter": "python",
   "pygments_lexer": "ipython3",
   "version": "3.6.3"
  }
 },
 "nbformat": 4,
 "nbformat_minor": 2
}
